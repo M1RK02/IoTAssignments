{
 "cells": [
  {
   "cell_type": "markdown",
   "metadata": {},
   "source": [
    "# Exercise"
   ]
  },
  {
   "cell_type": "code",
   "execution_count": 1,
   "metadata": {},
   "outputs": [],
   "source": [
    "# Coap message sizes (in bits)\n",
    "Lgetreq = 60 * 8\n",
    "Lgetresp = 55 * 8\n",
    "\n",
    "# MQTT message sizes (in bits)\n",
    "Lcon = 54 * 8\n",
    "Lconack = 47 * 8\n",
    "Lsub = 58 * 8\n",
    "Lsuback = 52 * 8\n",
    "Lpub = 68 * 8\n",
    "\n",
    "# Energy costs (in millijoule or millijoule/bit)\n",
    "Etx = 50 * 1e-6\n",
    "Erx = 58 * 1e-6\n",
    "Ec = 2.4"
   ]
  },
  {
   "cell_type": "markdown",
   "metadata": {},
   "source": [
    "EQ1) Compute the total energy consumed by the two battery-powered devices over a period of 24 hours in both cases when using COAP (a) and MQTT (b), using each in its most efficient configuration energy-wise.\n",
    "\n",
    "<img src=\"./images/COAP.png\" alt=\"COAP\" width=\"400\"/>\n",
    "\n",
    "<img src=\"./images/MQTT.png\" alt=\"MQTT\" width=\"400\"/>"
   ]
  },
  {
   "cell_type": "code",
   "execution_count": 2,
   "metadata": {},
   "outputs": [
    {
     "name": "stdout",
     "output_type": "stream",
     "text": [
      "128.94 mJ\n",
      "132.25 mJ\n"
     ]
    }
   ],
   "source": [
    "# Coap\n",
    "Evalvecoap = Etx*Lgetreq + 48 * (6 * Erx*Lgetresp + Ec)\n",
    "Etempcoap = Erx*Lgetreq + 48 * 6 * Etx*Lgetresp\n",
    "Ecoap = Evalvecoap + Etempcoap\n",
    "\n",
    "print(f\"{Ecoap:.2f} mJ\")\n",
    "\n",
    "# MQTT\n",
    "Evalvemqtt = Etx*Lcon + Erx*Lconack + Etx*Lsub + Erx*Lsuback + 48 * (6 * Erx*Lpub + Ec)\n",
    "Etempmqtt = Etx*Lcon + Erx*Lconack + 48 * 6 * Etx*Lpub\n",
    "Emqtt = Evalvemqtt + Etempmqtt\n",
    "\n",
    "print(f\"{Emqtt:.2f} mJ\")"
   ]
  },
  {
   "cell_type": "markdown",
   "metadata": {},
   "source": [
    "EQ2) Propose atleast one solution for decreasing the energy consumption when passing using the Raspberry PI as a broker. Give a rough estimate of the energy saving that could be obtained with your solution: recompute the energy under your proposed configuration.\n",
    "\n",
    "<img src=\"./images/BetterMQTT.png\" alt=\"BetterMQTT\" width=\"400\"/>"
   ]
  },
  {
   "cell_type": "code",
   "execution_count": 3,
   "metadata": {},
   "outputs": [
    {
     "name": "stdout",
     "output_type": "stream",
     "text": [
      "9.48 mJ\n"
     ]
    }
   ],
   "source": [
    "# Do computation on the Raspberry Pi and share only the average every 30 min with the valve\n",
    "Evalvemqtt = Etx*Lcon + Erx*Lconack + Etx*Lsub + Erx*Lsuback + 48 * Erx*Lpub\n",
    "Etempmqtt = Etx*Lcon + Erx*Lconack + 48 * 6 * Etx*Lpub\n",
    "Emqtt = Evalvemqtt + Etempmqtt\n",
    "\n",
    "print(f\"{Emqtt:.2f} mJ\")"
   ]
  },
  {
   "cell_type": "code",
   "execution_count": 4,
   "metadata": {},
   "outputs": [
    {
     "name": "stdout",
     "output_type": "stream",
     "text": [
      "130.31 mJ\n"
     ]
    }
   ],
   "source": [
    "# MQTTSN\n",
    "Lreg = 59 * 8 # HP from the exercise session (other dimensions seems similar)\n",
    "Lregack = 51 * 8 # HP from the exercise session (other dimensions seems similar)\n",
    "Lpub = Lpub - 8 * 8 # Topic is 10, but TopicID is 2 so 8 less\n",
    "\n",
    "Evalvemqtt = Etx*Lcon + Erx*Lconack + Etx*Lsub + Erx*Lsuback + 48 * (6 * Erx*Lpub + Ec)\n",
    "Etempmqtt = Etx*Lcon + Erx*Lconack + Etx*Lreg + Erx*Lregack + 48 * 6 * Etx*Lpub\n",
    "Emqtt = Evalvemqtt + Etempmqtt\n",
    "\n",
    "print(f\"{Emqtt:.2f} mJ\")"
   ]
  },
  {
   "cell_type": "code",
   "execution_count": 5,
   "metadata": {},
   "outputs": [
    {
     "name": "stdout",
     "output_type": "stream",
     "text": [
      "129.32 mJ\n"
     ]
    }
   ],
   "source": [
    "# MQTTSN + Half Payload (looking online 4 bytes are enough to express a temperature with sufficient precision)\n",
    "Lreg = 59 * 8\n",
    "Lregack = 51 * 8\n",
    "Lpub = Lpub - 4 * 8\n",
    "\n",
    "Evalvemqtt = Etx*Lcon + Erx*Lconack + Etx*Lsub + Erx*Lsuback + 48 * (6 * Erx*Lpub + Ec)\n",
    "Etempmqtt = Etx*Lcon + Erx*Lconack + Etx*Lreg + Erx*Lregack + 48 * 6 * Etx*Lpub\n",
    "Emqtt = Evalvemqtt + Etempmqtt\n",
    "\n",
    "print(f\"{Emqtt:.2f} mJ\")"
   ]
  }
 ],
 "metadata": {
  "kernelspec": {
   "display_name": ".venv",
   "language": "python",
   "name": "python3"
  },
  "language_info": {
   "codemirror_mode": {
    "name": "ipython",
    "version": 3
   },
   "file_extension": ".py",
   "mimetype": "text/x-python",
   "name": "python",
   "nbconvert_exporter": "python",
   "pygments_lexer": "ipython3",
   "version": "3.12.3"
  }
 },
 "nbformat": 4,
 "nbformat_minor": 2
}
