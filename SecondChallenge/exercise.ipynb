{
 "cells": [
  {
   "cell_type": "markdown",
   "metadata": {},
   "source": [
    "# Exercise"
   ]
  },
  {
   "cell_type": "markdown",
   "metadata": {},
   "source": [
    "Data given in the problem"
   ]
  },
  {
   "cell_type": "code",
   "execution_count": 1,
   "metadata": {},
   "outputs": [],
   "source": [
    "# Coap message sizes (in bits)\n",
    "Lgetreq = 60 * 8\n",
    "Lgetresp = 55 * 8\n",
    "\n",
    "# MQTT message sizes (in bits)\n",
    "Lcon = 54 * 8\n",
    "Lconack = 47 * 8\n",
    "Lsub = 58 * 8\n",
    "Lsuback = 52 * 8\n",
    "Lpub = 68 * 8\n",
    "\n",
    "# Energy costs (in millijoule or millijoule/bit)\n",
    "Etx = 50 * 1e-6\n",
    "Erx = 58 * 1e-6\n",
    "Ec = 2.4"
   ]
  },
  {
   "cell_type": "markdown",
   "metadata": {},
   "source": [
    "#### EQ1) Compute the total energy consumed by the two battery-powered devices over a period of 24 hours in both cases when using COAP (a) and MQTT (b), using each in its most efficient configuration energy-wise."
   ]
  },
  {
   "cell_type": "markdown",
   "metadata": {},
   "source": [
    "EQ1a) For CoAP we identified the observation mode as the most efficient configuration energy-wise, where the temperature sensor is theh CoAP server and the valve is the client. In this way the valve does only one GET request with the observe flag set and the temperature sensor sends a GET response every 5 minutes. We assumed the temperature value changes every 5 minutes or that we could program it to do so, and also that given the ideal connection we could use non confirmable messages without worrying.\n",
    "\n",
    "<img src=\"./images/COAP.png\" alt=\"COAP\" width=\"300\"/>"
   ]
  },
  {
   "cell_type": "code",
   "execution_count": 2,
   "metadata": {},
   "outputs": [
    {
     "name": "stdout",
     "output_type": "stream",
     "text": [
      "Total energy consumed by valve and temperature sensor is: 128.94 mJ\n"
     ]
    }
   ],
   "source": [
    "Evalvecoap = Etx*Lgetreq + 48 * (6 * Erx*Lgetresp + Ec)\n",
    "Etempcoap = Erx*Lgetreq + 48 * 6 * Etx*Lgetresp\n",
    "Ecoap = Evalvecoap + Etempcoap\n",
    "\n",
    "print(f\"Total energy consumed by valve and temperature sensor is: {Ecoap:.2f} mJ\")"
   ]
  },
  {
   "cell_type": "markdown",
   "metadata": {},
   "source": [
    "EQ1b) For MQTT we use the RPi as the broker and for the same hyphotesis from before (connection is ideal) we used QoS 0. Both the temperature sensor and the valve connect to the broker, the valve subscribes to the topic and the temperature sensor publish the temperature every five minutes.\n",
    "\n",
    "<img src=\"./images/MQTT.png\" alt=\"MQTT\" width=\"300\"/>"
   ]
  },
  {
   "cell_type": "code",
   "execution_count": 3,
   "metadata": {},
   "outputs": [
    {
     "name": "stdout",
     "output_type": "stream",
     "text": [
      "Total energy consumed by valve and temperature sensor is: 132.25 mJ\n"
     ]
    }
   ],
   "source": [
    "Evalvemqtt = Etx*Lcon + Erx*Lconack + Etx*Lsub + Erx*Lsuback + 48 * (6 * Erx*Lpub + Ec)\n",
    "Etempmqtt = Etx*Lcon + Erx*Lconack + 48 * 6 * Etx*Lpub\n",
    "Emqtt = Evalvemqtt + Etempmqtt\n",
    "\n",
    "print(f\"Total energy consumed by valve and temperature sensor is: {Emqtt:.2f} mJ\")"
   ]
  },
  {
   "cell_type": "markdown",
   "metadata": {},
   "source": [
    "#### EQ2) Propose atleast one solution for decreasing the energy consumption when passing using the Raspberry PI as a broker. Give a rough estimate of the energy saving that could be obtained with your solution: recompute the energy under your proposed configuration."
   ]
  },
  {
   "cell_type": "markdown",
   "metadata": {},
   "source": [
    "EQ2-1) At first we tought of lowering message sizes. Using MQTT-SN it is true that we have to add a step in the beginning, the registration phase, but all publish messages will be smaller. We got the messages dimensions for Reg and RegAck from the last exercise seen in class (all the other sizes corresponded so we think it's a good estimate) and removed 8 byte (10 byte previous topic - 2 byte for the topicID) from the publish messages, we know it's not exactly like this but it's to give an estimate. We also tought of reducing the payload size since 8 bytes are too much for a temperature value, 4 bytes are sufficient."
   ]
  },
  {
   "cell_type": "code",
   "execution_count": 4,
   "metadata": {},
   "outputs": [
    {
     "name": "stdout",
     "output_type": "stream",
     "text": [
      "Total energy consumed by valve and temperature sensor is: 129.32 mJ\n"
     ]
    }
   ],
   "source": [
    "Lreg = 59 * 8\n",
    "Lregack = 51 * 8\n",
    "LpubSN = Lpub - (8 * 8) - (4 * 8)\n",
    "\n",
    "Evalvemqtt = Etx*Lcon + Erx*Lconack + Etx*Lsub + Erx*Lsuback + 48 * (6 * Erx*LpubSN + Ec)\n",
    "Etempmqtt = Etx*Lcon + Erx*Lconack + Etx*Lreg + Erx*Lregack + 48 * 6 * Etx*LpubSN\n",
    "Emqtt = Evalvemqtt + Etempmqtt\n",
    "\n",
    "print(f\"Total energy consumed by valve and temperature sensor is: {Emqtt:.2f} mJ\")"
   ]
  },
  {
   "cell_type": "markdown",
   "metadata": {},
   "source": [
    "EQ2-2) Looking online we found that MQTT-SN also has a QoS -1 (also called 3) that permits to a client to publish a message without connecting or registering (fire and forget). It's a small improvement but we tought it was relevant. We just removed connection and registration from the temperature sensor size."
   ]
  },
  {
   "cell_type": "code",
   "execution_count": 5,
   "metadata": {},
   "outputs": [
    {
     "name": "stdout",
     "output_type": "stream",
     "text": [
      "Total energy consumed by valve and temperature sensor is: 129.23 mJ\n"
     ]
    }
   ],
   "source": [
    "Evalvemqtt = Etx*Lcon + Erx*Lconack + Etx*Lsub + Erx*Lsuback + 48 * (6 * Erx*LpubSN + Ec)\n",
    "Etempmqtt = 48 * 6 * Etx*LpubSN\n",
    "Emqtt = Evalvemqtt + Etempmqtt\n",
    "\n",
    "print(f\"Total energy consumed by valve and temperature sensor is: {Emqtt:.2f} mJ\")"
   ]
  },
  {
   "cell_type": "markdown",
   "metadata": {},
   "source": [
    "EQ2-3) The most energy expensive operations is the average of the temperatures so if we could the best thing is to move it on the RPi. We could do this even without modifying the broker by adding a client subscribed on the temperature that calculates the average and just publish the update to the valve (see image below). This is a massive improvement even using normal MQTT (as we did) but maybe we modified the system to much.\n",
    "\n",
    "<img src=\"./images/BetterMQTT.png\" alt=\"BetterMQTT\" width=\"400\"/>"
   ]
  },
  {
   "cell_type": "code",
   "execution_count": 6,
   "metadata": {},
   "outputs": [
    {
     "name": "stdout",
     "output_type": "stream",
     "text": [
      "Total energy consumed by valve and temperature sensor is: 9.48 mJ\n"
     ]
    }
   ],
   "source": [
    "# Do computation on the Raspberry Pi and share only the average every 30 min with the valve\n",
    "Evalvemqtt = Etx*Lcon + Erx*Lconack + Etx*Lsub + Erx*Lsuback + 48 * Erx*Lpub\n",
    "Etempmqtt = Etx*Lcon + Erx*Lconack + 48 * 6 * Etx*Lpub\n",
    "Emqtt = Evalvemqtt + Etempmqtt\n",
    "\n",
    "print(f\"Total energy consumed by valve and temperature sensor is: {Emqtt:.2f} mJ\")"
   ]
  }
 ],
 "metadata": {
  "kernelspec": {
   "display_name": ".venv",
   "language": "python",
   "name": "python3"
  },
  "language_info": {
   "codemirror_mode": {
    "name": "ipython",
    "version": 3
   },
   "file_extension": ".py",
   "mimetype": "text/x-python",
   "name": "python",
   "nbconvert_exporter": "python",
   "pygments_lexer": "ipython3",
   "version": "3.12.3"
  }
 },
 "nbformat": 4,
 "nbformat_minor": 2
}
