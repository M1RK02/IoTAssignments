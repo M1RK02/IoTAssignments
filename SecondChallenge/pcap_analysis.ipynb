{
 "cells": [
  {
   "cell_type": "markdown",
   "metadata": {},
   "source": [
    "# Challenge"
   ]
  },
  {
   "cell_type": "markdown",
   "metadata": {},
   "source": [
    "We decided to do the pcap scrapying in python with a library called \"scapy\", we discovered later that this library [does not support MQTT 5.0](https://github.com/secdev/scapy/pull/3292) packets and they are not parsed correctly, but we wrote custom code to solve this problem, and double checked everything in wireshark."
   ]
  },
  {
   "cell_type": "markdown",
   "metadata": {},
   "source": [
    "Libraries needed for the analysis"
   ]
  },
  {
   "cell_type": "code",
   "execution_count": 1,
   "metadata": {},
   "outputs": [],
   "source": [
    "import pandas as pd\n",
    "from scapy.all import *\n",
    "from scapy.contrib.coap import *\n",
    "from scapy.contrib.mqtt import *\n",
    "from collections import Counter"
   ]
  },
  {
   "cell_type": "code",
   "execution_count": null,
   "metadata": {},
   "outputs": [],
   "source": [
    "packets = rdpcap('capture.pcapng')"
   ]
  },
  {
   "cell_type": "markdown",
   "metadata": {},
   "source": [
    "CQ1) How many different Confirmable PUT requests obtained an unsuccessful response from the local CoAP server?\n",
    "\n",
    "We searched for confimable PUT requests which got an unsuccessful response from the local CoAP server and counted all different tokens."
   ]
  },
  {
   "cell_type": "code",
   "execution_count": 3,
   "metadata": {},
   "outputs": [
    {
     "name": "stdout",
     "output_type": "stream",
     "text": [
      "Answer: 22\n"
     ]
    }
   ],
   "source": [
    "put_con_packets = [pkt for pkt in packets if pkt.haslayer(CoAP) and pkt[CoAP].code == 3 and pkt[CoAP].type == 0]\n",
    "\n",
    "uns_resp = [pkt for pkt in packets if pkt.haslayer(CoAP) and pkt[CoAP].code > 69 and pkt[\"IP\"].src == \"127.0.0.1\"]\n",
    "\n",
    "count = len({pkt[CoAP].token for pkt in put_con_packets} & {pkt[CoAP].token for pkt in uns_resp})\n",
    "\n",
    "print(f\"Answer: {count}\")"
   ]
  },
  {
   "cell_type": "markdown",
   "metadata": {},
   "source": [
    "CQ2) How many CoAP resources in the coap.me public server received the same number of unique Confirmable and Non Confirmable GET requests?\n",
    "> Assuming a resource receives X different CONFIRMABLE requests and Y different NONCONFIRMABLE  GET requests, how many resources have X=Y, with X>0?\n",
    "\n",
    "We first looked at the DNS packets to get the IP address of the coap.me public server, than we counted how many confirmable and non confirmable GET requests each resource got and counted how many got the same number."
   ]
  },
  {
   "cell_type": "code",
   "execution_count": 4,
   "metadata": {},
   "outputs": [
    {
     "name": "stdout",
     "output_type": "stream",
     "text": [
      "['/validate', '/secret', '/large']\n",
      "Answer: 3\n"
     ]
    }
   ],
   "source": [
    "con_resources = Counter()\n",
    "non_resources = Counter()\n",
    "\n",
    "for pkt in packets: \n",
    "    if pkt.haslayer(CoAP) and pkt[CoAP].code == 1 and pkt[\"IP\"].dst == \"134.102.218.18\":\n",
    "        uri_path_str = \"\"\n",
    "        for option in pkt[CoAP].options:\n",
    "            if option[0] == \"Uri-Path\":\n",
    "                uri_path = option[1].decode('utf-8')\n",
    "                if uri_path:\n",
    "                    uri_path_str = uri_path_str + \"/\" + uri_path\n",
    "        if pkt[CoAP].type == 0:    \n",
    "            con_resources[uri_path_str]+=1\n",
    "        else:\n",
    "            non_resources[uri_path_str]+=1\n",
    "            \n",
    "\n",
    "resources = [r for r in (set(con_resources.keys()) & set(non_resources.keys())) if con_resources[r] == non_resources[r]]\n",
    "\n",
    "print(resources)\n",
    "\n",
    "print(f\"Answer: {len(resources)}\")"
   ]
  },
  {
   "cell_type": "markdown",
   "metadata": {},
   "source": [
    "CQ3) How many different MQTT clients subscribe to the public broker HiveMQ using multi-level wildcards?\n",
    "\n",
    "As before, we first looked at the DNS packets to get HiveMQ IP addresses, then looked in every subscribe request for the multi level wildcard, when found we added the client (identified by its port) to the list."
   ]
  },
  {
   "cell_type": "code",
   "execution_count": 5,
   "metadata": {},
   "outputs": [
    {
     "name": "stdout",
     "output_type": "stream",
     "text": [
      "[38641, 38619, 54449, 57863]\n",
      "Answer: 4\n"
     ]
    }
   ],
   "source": [
    "clients = []\n",
    "\n",
    "for pkt in packets:\n",
    "    if pkt.haslayer(MQTT) and pkt[MQTT].type == 8 and (pkt.dst == \"35.158.43.69\" or pkt.dst == \"35.158.34.213\" or pkt.dst == \"18.192.151.104\"):\n",
    "        if len(pkt[MQTT].topics) == 1:\n",
    "            if \"#\" in pkt[MQTT].topics[0].topic.decode(\"utf-8\") and pkt[TCP].sport not in clients:\n",
    "                clients.append(pkt[TCP].sport)\n",
    "        else: # MQTT 5.0 packets\n",
    "            if \"#\" in pkt[MQTT].topics[1].load.decode(\"utf-8\") and pkt[TCP].sport not in clients:\n",
    "                clients.append(pkt[TCP].sport)\n",
    "\n",
    "print(clients)\n",
    "print(f\"Answer: {len(clients)}\")"
   ]
  },
  {
   "cell_type": "markdown",
   "metadata": {},
   "source": [
    "CQ4) How many different MQTT clients specify a last Will Message to be directed to a topic having as first level \"university\"?\n",
    "\n",
    "We searched every connect packet with a last will and checked if the topic started with university. If it did we added it to the list."
   ]
  },
  {
   "cell_type": "code",
   "execution_count": 6,
   "metadata": {},
   "outputs": [
    {
     "name": "stdout",
     "output_type": "stream",
     "text": [
      "[38083]\n",
      "Answer: 1\n"
     ]
    }
   ],
   "source": [
    "clients = []\n",
    "\n",
    "for pkt in packets:\n",
    "    if pkt.haslayer(MQTT) and pkt[MQTT].type == 1:\n",
    "        try:\n",
    "            if pkt[MQTT].willflag == 1 and pkt[MQTT].willtopic.decode(\"utf-8\").startswith(\"university/\") and pkt[TCP].sport not in clients:\n",
    "                clients.append(pkt[TCP].sport)\n",
    "        except: # MQTT 5.0 packets\n",
    "            mqtt_payload = pkt[MQTT].load\n",
    "            if len(mqtt_payload) > 7:  # Byte containing the flag need to exist\n",
    "                connect_flags = mqtt_payload[7]\n",
    "                will_flag = (connect_flags & 0b00000100) >> 2  # Extract the third bit\n",
    "                if will_flag == 1:\n",
    "                    # After connect flags\n",
    "                    index = 8\n",
    "                    # Skip keep alive\n",
    "                    index += 2\n",
    "                    # Read property len\n",
    "                    property_length = mqtt_payload[index]\n",
    "                    # Skip properties\n",
    "                    index += 1 + property_length\n",
    "                    # Read client id len\n",
    "                    client_id_len = struct.unpack(\"!H\", mqtt_payload[index:index+2])[0]\n",
    "                    # Skip client id\n",
    "                    index += 2 + client_id_len\n",
    "                    # Check will properties\n",
    "                    will_property_length = mqtt_payload[index]\n",
    "                    # Skip will properties\n",
    "                    index += 1 + will_property_length \n",
    "                    # Find will topic len\n",
    "                    will_topic_len = struct.unpack(\"!H\", mqtt_payload[index:index+2])[0]\n",
    "                    # Move index to start of topic\n",
    "                    index += 2\n",
    "                    # Read topic\n",
    "                    will_topic = mqtt_payload[index:index+will_topic_len].decode()\n",
    "\n",
    "                    if will_topic.startswith(\"university/\") and pkt[TCP].sport not in clients:\n",
    "                        clients.append(pkt[TCP].sport)\n",
    "\n",
    "print(clients)\n",
    "print(f\"Answer: {len(clients)}\")"
   ]
  },
  {
   "cell_type": "markdown",
   "metadata": {},
   "source": [
    "CQ5) How many MQTT subscribers receive a last will message derived from a subscription without a wildcard?\n",
    "\n",
    "We search for every will topic in the packets. Than we look in the subscribe packets for matching subscribtion and we will find only subscribtions without a wildcard because we are matching explicitly with the will topic."
   ]
  },
  {
   "cell_type": "code",
   "execution_count": null,
   "metadata": {},
   "outputs": [
    {
     "name": "stdout",
     "output_type": "stream",
     "text": [
      "['university/department12/room1/temperature', 'metaverse/room2/floor4', 'hospital/facility3/area3', 'metaverse/room2/room2']\n",
      "[39551, 53557, 41789]\n",
      "Answer: 3\n"
     ]
    }
   ],
   "source": [
    "topics = []\n",
    "subscribers = []\n",
    "\n",
    "for pkt in packets:\n",
    "    if pkt.haslayer(MQTT) and pkt[MQTT].type == 1:\n",
    "        try:\n",
    "            if pkt[MQTT].willflag == 1:\n",
    "                will_topic = pkt[MQTT].willtopic.decode(\"utf-8\")\n",
    "        except: # MQTT 5.0 packets\n",
    "            mqtt_payload = pkt[MQTT].load\n",
    "            if len(mqtt_payload) > 7:\n",
    "                connect_flags = mqtt_payload[7]\n",
    "                will_flag = (connect_flags & 0b00000100) >> 2\n",
    "                if will_flag == 1:\n",
    "                    index = 8\n",
    "                    index += 2\n",
    "                    property_length = mqtt_payload[index]  \n",
    "                    index += 1 + property_length\n",
    "                    client_id_len = struct.unpack(\"!H\", mqtt_payload[index:index+2])[0]\n",
    "                    index += 2 + client_id_len\n",
    "                    will_property_length = mqtt_payload[index]\n",
    "                    index += 1 + will_property_length\n",
    "                    will_topic_len = struct.unpack(\"!H\", mqtt_payload[index:index+2])[0]\n",
    "                    index += 2\n",
    "                    will_topic = mqtt_payload[index:index+will_topic_len].decode()\n",
    "        if will_topic not in topics:\n",
    "                    topics.append(will_topic)\n",
    "\n",
    "print(topics)\n",
    "\n",
    "for pkt in packets:\n",
    "    if pkt.haslayer(MQTT) and pkt[MQTT].type == 8:\n",
    "        if len(pkt[MQTT].topics) == 1:\n",
    "            if pkt[MQTT].topics[0].topic.decode(\"utf-8\") in topics and pkt[TCP].sport not in subscribers:\n",
    "                subscribers.append(pkt[TCP].sport)\n",
    "        else: # MQTT 5.0 packets\n",
    "            if pkt[MQTT].topics[1].load.decode(\"utf-8\") in topics and pkt[TCP].sport not in subscribers:\n",
    "                subscribers.append(pkt[TCP].sport)\n",
    "\n",
    "print(subscribers)\n",
    "\n",
    "print(f\"Answer: {len(subscribers)}\")"
   ]
  },
  {
   "cell_type": "markdown",
   "metadata": {},
   "source": [
    "CQ6) How many MQTT publish messages directed to the public broker mosquitto are sent with the retain option and use QoS “At most once”?\n",
    "\n",
    "We first looked at the DNS packets to find the IP of the public broker and then we simply counted the matching messages."
   ]
  },
  {
   "cell_type": "code",
   "execution_count": 8,
   "metadata": {},
   "outputs": [
    {
     "name": "stdout",
     "output_type": "stream",
     "text": [
      "Answer: 208\n"
     ]
    }
   ],
   "source": [
    "count = 0\n",
    "for pkt in packets:\n",
    "    if pkt.haslayer(MQTT) and pkt[MQTT].type == 3 and pkt.dst == \"5.196.78.28\" and pkt[MQTT].RETAIN == 1 and pkt[MQTT].QOS == 0:\n",
    "        count += 1\n",
    "\n",
    "print(f\"Answer: {count}\")"
   ]
  },
  {
   "cell_type": "markdown",
   "metadata": {},
   "source": [
    "CQ7) How many MQTT-SN messages on port 1885 are sent by the clients to a broker in the local machine?\n",
    "\n",
    "We looked for UDP packets with that port but found nothing (to be sure we also gave a fast scan at all udp packets in wireshark)."
   ]
  },
  {
   "cell_type": "code",
   "execution_count": 9,
   "metadata": {},
   "outputs": [
    {
     "name": "stdout",
     "output_type": "stream",
     "text": [
      "Answer: 0\n"
     ]
    }
   ],
   "source": [
    "count = 0\n",
    "for pkt in packets:\n",
    "    if pkt.haslayer(UDP) and pkt[UDP].dport == 1885:\n",
    "        count += 1\n",
    "\n",
    "print(f\"Answer: {count}\")"
   ]
  }
 ],
 "metadata": {
  "kernelspec": {
   "display_name": ".venv",
   "language": "python",
   "name": "python3"
  },
  "language_info": {
   "codemirror_mode": {
    "name": "ipython",
    "version": 3
   },
   "file_extension": ".py",
   "mimetype": "text/x-python",
   "name": "python",
   "nbconvert_exporter": "python",
   "pygments_lexer": "ipython3",
   "version": "3.12.3"
  }
 },
 "nbformat": 4,
 "nbformat_minor": 2
}
