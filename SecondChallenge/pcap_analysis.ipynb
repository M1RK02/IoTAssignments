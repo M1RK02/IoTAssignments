{
 "cells": [
  {
   "cell_type": "markdown",
   "metadata": {},
   "source": [
    "# Pcap analysis"
   ]
  },
  {
   "cell_type": "code",
   "execution_count": 2,
   "metadata": {},
   "outputs": [],
   "source": [
    "import pandas as pd\n",
    "from scapy.all import *\n",
    "from scapy.contrib.coap import *\n",
    "from collections import Counter"
   ]
  },
  {
   "cell_type": "code",
   "execution_count": 3,
   "metadata": {},
   "outputs": [
    {
     "name": "stderr",
     "output_type": "stream",
     "text": [
      "WARNING: Invalid Option Delta or Length\n",
      "WARNING: Invalid Option Delta or Length\n",
      "WARNING: Invalid Option Length or Delta 15\n",
      "WARNING: Invalid Option Length or Delta 15\n",
      "WARNING: more Invalid Option Delta or Length\n",
      "WARNING: more Invalid Option Length or Delta 15\n"
     ]
    }
   ],
   "source": [
    "packets = rdpcap('capture.pcapng')"
   ]
  },
  {
   "cell_type": "markdown",
   "metadata": {},
   "source": [
    "CQ1) How many different Confirmable PUT requests obtained an \n",
    "unsuccessful response from the local CoAP server?"
   ]
  },
  {
   "cell_type": "code",
   "execution_count": 56,
   "metadata": {},
   "outputs": [
    {
     "name": "stdout",
     "output_type": "stream",
     "text": [
      "Answer:\n",
      "22\n"
     ]
    }
   ],
   "source": [
    "# Select Confirmable PUT request\n",
    "put_con_packets = [pkt for pkt in packets if pkt.haslayer(CoAP) and pkt[CoAP].code == 3 and pkt[CoAP].type == 0]\n",
    "\n",
    "# Select only requests with unsuccessful responce from the local CoAP server\n",
    "uns_resp = [pkt for pkt in packets if pkt.haslayer(CoAP) and pkt[CoAP].code > 69 and pkt[\"IP\"].src == \"127.0.0.1\"]\n",
    "\n",
    "count = len({pkt[CoAP].token for pkt in put_con_packets} & {pkt[CoAP].token for pkt in uns_resp})\n",
    "\n",
    "print(\"Answer:\")\n",
    "print(count)"
   ]
  },
  {
   "cell_type": "markdown",
   "metadata": {},
   "source": [
    "CQ2) How many CoAP resources in the coap.me public server received the \n",
    "same number of unique Confirmable and Non Confirmable GET requests?"
   ]
  },
  {
   "cell_type": "markdown",
   "metadata": {},
   "source": [
    "Assuming a resource receives X different CONFIRMABLE requests and Y different \n",
    "NONCONFIRMABLE  GET requests, how many resources have X=Y, with X>0?"
   ]
  },
  {
   "cell_type": "code",
   "execution_count": 75,
   "metadata": {},
   "outputs": [
    {
     "name": "stdout",
     "output_type": "stream",
     "text": [
      "['/validate', '/secret', '/large']\n",
      "Answer:\n",
      "3\n"
     ]
    }
   ],
   "source": [
    "con_resources = Counter()\n",
    "non_resources = Counter()\n",
    "\n",
    "for pkt in packets: \n",
    "    if pkt.haslayer(CoAP) and pkt[CoAP].code == 1 and pkt[\"IP\"].dst == \"134.102.218.18\":\n",
    "        uri_path_str = \"\"\n",
    "        for option in pkt[CoAP].options:\n",
    "            if option[0] == \"Uri-Path\":\n",
    "                uri_path = option[1].decode('utf-8')\n",
    "                if uri_path:\n",
    "                    uri_path_str = uri_path_str + \"/\" + uri_path\n",
    "        if pkt[CoAP].type == 0:    \n",
    "            con_resources[uri_path_str]+=1\n",
    "        else:\n",
    "            non_resources[uri_path_str]+=1\n",
    "            \n",
    "\n",
    "result = [r for r in (set(con_resources.keys()) & set(non_resources.keys())) if con_resources[r] == non_resources[r]]\n",
    "\n",
    "count = len(result)\n",
    "\n",
    "print(result)\n",
    "\n",
    "print(\"Answer:\")\n",
    "print(count)"
   ]
  }
 ],
 "metadata": {
  "kernelspec": {
   "display_name": ".venv",
   "language": "python",
   "name": "python3"
  },
  "language_info": {
   "codemirror_mode": {
    "name": "ipython",
    "version": 3
   },
   "file_extension": ".py",
   "mimetype": "text/x-python",
   "name": "python",
   "nbconvert_exporter": "python",
   "pygments_lexer": "ipython3",
   "version": "3.12.3"
  }
 },
 "nbformat": 4,
 "nbformat_minor": 2
}
