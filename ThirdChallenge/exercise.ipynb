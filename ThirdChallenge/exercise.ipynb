{
 "cells": [
  {
   "cell_type": "markdown",
   "id": "4d0147b0",
   "metadata": {},
   "source": [
    "# Exercise"
   ]
  },
  {
   "cell_type": "markdown",
   "id": "0c86553e",
   "metadata": {},
   "source": [
    "EQ1) A LoRaWAN network in Europe (carrier frequency 868 MHz, bandwidth 125 kHz) is composed by one gateway and 50 sensor nodes. The sensor nodes transmit packet with payload size of L byte according to a Poisson process with intensity lambda = 1 packet/minute. Find the biggest LoRa SF for having a success rate of at least 70%. Hint: use https://www.thethingsnetwork.org/airtime-calculator to compute the airtime of a packet."
   ]
  },
  {
   "cell_type": "code",
   "execution_count": 13,
   "id": "26d1563b",
   "metadata": {},
   "outputs": [
    {
     "name": "stdout",
     "output_type": "stream",
     "text": [
      "The biggest SF for having a success rate of at least 70% is SF9\n"
     ]
    }
   ],
   "source": [
    "import math\n",
    "\n",
    "# Leader person code = 10811404\n",
    "payload_size = 3 + 4\n",
    "\n",
    "# Packet airtime for different SF in ms obtained by airtime calculator\n",
    "packets_airtime = {}\n",
    "packets_airtime[7] = 56.6\n",
    "packets_airtime[8] = 102.9\n",
    "packets_airtime[9] = 185.3\n",
    "packets_airtime[10] = 370.7\n",
    "packets_airtime[11] = 741.4\n",
    "packets_airtime[12] = 1318.9\n",
    "\n",
    "# Compute the aloha success rate\n",
    "aloha_sr = {}\n",
    "for key, value in packets_airtime.items():\n",
    "    aloha_sr[key] = math.exp(-2 * 50 * (1/60000) * value)\n",
    "\n",
    "sf = max(k for k in aloha_sr if aloha_sr[k] >= 0.7)\n",
    "print(f\"The biggest SF for having a success rate of at least 70% is SF{sf}\")"
   ]
  }
 ],
 "metadata": {
  "kernelspec": {
   "display_name": ".venv",
   "language": "python",
   "name": "python3"
  },
  "language_info": {
   "codemirror_mode": {
    "name": "ipython",
    "version": 3
   },
   "file_extension": ".py",
   "mimetype": "text/x-python",
   "name": "python",
   "nbconvert_exporter": "python",
   "pygments_lexer": "ipython3",
   "version": "3.12.3"
  }
 },
 "nbformat": 4,
 "nbformat_minor": 5
}
