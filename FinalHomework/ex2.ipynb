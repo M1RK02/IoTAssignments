{
 "cells": [
  {
   "cell_type": "markdown",
   "id": "aec7a320",
   "metadata": {},
   "source": [
    "# IEEE 802.15.4"
   ]
  },
  {
   "cell_type": "markdown",
   "id": "f48ba787",
   "metadata": {},
   "source": [
    "Considering the pseudocode in the slides for a ESP32-based IoT monitoring system.\n",
    "Assuming the system is operated with IEEE 802.15.4 in beacon-enabled mode (CFP only) and that the number of people present in the camera frame at any instant follows a Poisson distribution with an average rate of lambda = 0.15 persons/frame"
   ]
  },
  {
   "cell_type": "markdown",
   "id": "de32c439",
   "metadata": {},
   "source": [
    "#### 1. Compute the Probability Mass Function of the output rate of the ESP32 P(r = r_0), P(r = r_1), P(r = r_2), where r_0, r_1 and r_2 are the output rates when there are 0, 1 or more than 1 persons in the captured frame, respectively."
   ]
  },
  {
   "cell_type": "code",
   "execution_count": 1,
   "id": "e11eb3ae",
   "metadata": {},
   "outputs": [
    {
     "name": "stdout",
     "output_type": "stream",
     "text": [
      "Using the formula for the Poisson distribution we get:\n",
      "P(r = r_0) = 0.861\n",
      "P(r = r_1) = 0.129\n",
      "P(r = r_2) = 0.010\n"
     ]
    }
   ],
   "source": [
    "from scipy.stats import poisson\n",
    "import math\n",
    "\n",
    "# Probability Mass Function\n",
    "person_rate = 0.15\n",
    "P = dict()\n",
    "P[0] = poisson.pmf(0, person_rate)\n",
    "P[1] = poisson.pmf(1, person_rate)\n",
    "P[2] = 1 - poisson.cdf(1, person_rate)\n",
    "\n",
    "print('Using the formula for the Poisson distribution we get:')\n",
    "for i in range(3):\n",
    "    print(f'P(r = r_{i}) = {P[i]:.3f}')"
   ]
  },
  {
   "cell_type": "markdown",
   "id": "46eb5b40",
   "metadata": {},
   "source": [
    "#### 2. Based on the output rate PMF, compute a consistent slot assignment for the CFP in a monitoring system composed of 1 PAN coordinator and 3 camera nodes. Assume nominal bit rate R=250kbps, packets of L=128bytes, 1 packet fits exactly in one slot. Compute Ts (slot time), Number of slots in the CFP, Tactive, Tinactive and the duty cycle of the system."
   ]
  },
  {
   "cell_type": "code",
   "execution_count": 2,
   "id": "dc5a37f9",
   "metadata": {},
   "outputs": [
    {
     "name": "stdout",
     "output_type": "stream",
     "text": [
      "With the given packet lenght and nominal bit rate we get Ts = 4.096 ms.\n",
      "\n",
      "Every camera in the worst case requires 6 slots.\n",
      "Having 3 cameras the total number of slots in the CFP is 18.\n",
      "\n",
      "We can calculate the beacon interval as packet lenght over slowest equivalent rate and we get BI = 1.28 s.\n",
      "With that number of CFP slots and assuming no CAP slots we get Tactive = 77.824 ms.\n",
      "The remaining time in the beacon interval is Tinactive = 1202.176 ms.\n",
      "\n",
      "We can now calculate the duty cycle as active over total time and we get η = 6.08%.\n"
     ]
    }
   ],
   "source": [
    "# Every camera is processing a frame every 10 seconds\n",
    "interval = 10\n",
    "\n",
    "# Possible payload sizes in KB\n",
    "payload = dict()\n",
    "payload[0] = 1\n",
    "payload[1] = 3\n",
    "payload[2] = 6\n",
    "\n",
    "# Equivalent rate in B/s\n",
    "rate = dict()\n",
    "for i in range(3):\n",
    "    rate[i] = payload[i] * 1e3 / interval\n",
    "\n",
    "# Number of cameras\n",
    "num_cameras = 3\n",
    "# Lenght of packet in B\n",
    "L = 128\n",
    "# Nominal bit rate in kbps\n",
    "R = 250\n",
    "\n",
    "# Slot time in ms\n",
    "Ts = L * 8 / R\n",
    "print(f'With the given packet lenght and nominal bit rate we get Ts = {Ts} ms.\\n')\n",
    "\n",
    "# Num of slots required by each camera in the worst case\n",
    "required_slots = math.ceil(max(rate.values()) / min(rate.values()))\n",
    "print(f'Every camera in the worst case requires {required_slots} slots.')\n",
    "\n",
    "# Slots in the CFP\n",
    "Ncfp = required_slots * num_cameras\n",
    "print(f'Having {num_cameras} cameras the total number of slots in the CFP is {Ncfp}.\\n')\n",
    "\n",
    "# Beacon interval\n",
    "BI = L / min(rate.values())\n",
    "print(f'We can calculate the beacon interval as packet lenght over slowest equivalent rate and we get BI = {BI} s.')\n",
    "\n",
    "# Active part duration\n",
    "Tactive = (1 + Ncfp) * Ts\n",
    "print(f'With that number of CFP slots and assuming no CAP slots we get Tactive = {Tactive} ms.')\n",
    "\n",
    "# Inactive part duration\n",
    "Tinactive = BI*1e3 - Tactive\n",
    "print(f'The remaining time in the beacon interval is Tinactive = {Tinactive:.3f} ms.\\n')\n",
    "\n",
    "# Duty cycle\n",
    "n = Tactive / (BI*1e3)\n",
    "print(f'We can now calculate the duty cycle as active over total time and we get η = {n*100}%.')"
   ]
  },
  {
   "cell_type": "markdown",
   "id": "cf117484",
   "metadata": {},
   "source": [
    "#### 3. How many additional cameras can be added to keep the duty cycle below 10%?"
   ]
  },
  {
   "cell_type": "code",
   "execution_count": 3,
   "id": "9c06e7ff",
   "metadata": {},
   "outputs": [
    {
     "name": "stdout",
     "output_type": "stream",
     "text": [
      "In order to keep the duty cycle below 10% we can have at most 5 cameras.\n",
      "Having already 3 we can only add 2 additional cameras.\n"
     ]
    }
   ],
   "source": [
    "# Maximum CFP slots with 10% duty cycle\n",
    "max_ncfp = (0.1 * BI * 1e3 / Ts) - 1\n",
    "\n",
    "max_num_cameras = math.floor(max_ncfp / required_slots)\n",
    "print(f'In order to keep the duty cycle below 10% we can have at most {max_num_cameras} cameras.')\n",
    "\n",
    "max_additional_cameras = max_num_cameras - num_cameras\n",
    "print(f'Having already {num_cameras} we can only add {max_additional_cameras} additional cameras.')"
   ]
  }
 ],
 "metadata": {
  "kernelspec": {
   "display_name": ".venv",
   "language": "python",
   "name": "python3"
  },
  "language_info": {
   "codemirror_mode": {
    "name": "ipython",
    "version": 3
   },
   "file_extension": ".py",
   "mimetype": "text/x-python",
   "name": "python",
   "nbconvert_exporter": "python",
   "pygments_lexer": "ipython3",
   "version": "3.12.3"
  }
 },
 "nbformat": 4,
 "nbformat_minor": 5
}
