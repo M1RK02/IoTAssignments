{
 "cells": [
  {
   "cell_type": "markdown",
   "id": "7d73cd1c",
   "metadata": {},
   "source": [
    "# RFID"
   ]
  },
  {
   "cell_type": "markdown",
   "id": "1704dbd6",
   "metadata": {},
   "source": [
    "A RFID system based on Dynamic Frame ALOHA is composed of N=4 tags"
   ]
  },
  {
   "cell_type": "markdown",
   "id": "51d0b6b8",
   "metadata": {},
   "source": [
    "#### 1. Find the overall collision resolution efficiency η in the different cases in which the initial frame size is set to r1=1,2,3,4,5,6\n",
    "- Assume that after the first frame, the frame size is correctly set to the current backlog size\n",
    "- Assume as given the duration of the arbitration period with N=2,3 tags when r=N (L2=4, L3=51/8)"
   ]
  },
  {
   "cell_type": "code",
   "execution_count": 4,
   "id": "8e73d892",
   "metadata": {},
   "outputs": [
    {
     "name": "stdout",
     "output_type": "stream",
     "text": [
      "With initial frame size 1 we get len 9.824 so 0.407 efficiency\n",
      "With initial frame size 2 we get len 9.600 so 0.417 efficiency\n",
      "With initial frame size 3 we get len 8.954 so 0.447 efficiency\n",
      "With initial frame size 4 we get len 8.824 so 0.453 efficiency\n",
      "With initial frame size 5 we get len 9.038 so 0.443 efficiency\n",
      "With initial frame size 6 we get len 9.466 so 0.423 efficiency\n"
     ]
    }
   ],
   "source": [
    "import math\n",
    "\n",
    "# Number of tags to resolve\n",
    "N = 4\n",
    "\n",
    "L = dict()\n",
    "# Given\n",
    "L[1] = 1\n",
    "L[2] = 4\n",
    "L[3] = 51/8\n",
    "\n",
    "Ps = dict()\n",
    "# Probabilities with size 1\n",
    "Ps[(0,1)] = 1\n",
    "Ps[(1,1)] = 0\n",
    "Ps[(2,1)] = 0\n",
    "Ps[(3,1)] = 0\n",
    "Ps[(4,1)] = 0\n",
    "\n",
    "# Probabilities with size 2\n",
    "Ps[(0,2)] = pow(1/2, 4) * (2 + math.comb(4, 2))\n",
    "Ps[(1,2)] = pow(1/2, 4) * 4 * 2\n",
    "Ps[(2,2)] = 0\n",
    "Ps[(3,2)] = 0\n",
    "Ps[(4,2)] = 0\n",
    "\n",
    "# Probabilities with size 3\n",
    "Ps[(0,3)] = pow(1/3, 4) * (3 + math.comb(4, 2) * math.factorial(3) / 2)\n",
    "Ps[(1,3)] = pow(1/3, 4) * 4 * math.factorial(3)\n",
    "Ps[(2,3)] = pow(1/3, 4) * math.comb(4, 2) * math.factorial(3)\n",
    "Ps[(3,3)] = 0\n",
    "Ps[(4,3)] = 0\n",
    "\n",
    "# Probabilities with size 4\n",
    "Ps[(0,4)] = pow(1/4, 4) * (4 + math.comb(4, 2) * math.factorial(4) / 4)\n",
    "Ps[(1,4)] = pow(1/4, 4) * 4 * 4 * 3\n",
    "Ps[(2,4)] = pow(1/4, 4) * math.comb(4, 2) * math.factorial(4)\n",
    "Ps[(3,4)] = 0\n",
    "Ps[(4,4)] = pow(1/4, 4) * math.factorial(4)\n",
    "\n",
    "# Probabilities with size 5\n",
    "Ps[(0,5)] = pow(1/5, 4) * (5 + math.comb(4, 2) * math.factorial(5) / 12)\n",
    "Ps[(1,5)] = pow(1/5, 4) * 4 * 5 * 4\n",
    "Ps[(2,5)] = pow(1/5, 4) * math.comb(4, 2) * math.factorial(5) / 2\n",
    "Ps[(3,5)] = 0\n",
    "Ps[(4,5)] = pow(1/5, 4) * math.factorial(5)\n",
    "\n",
    "# Probabilities with size 6\n",
    "Ps[(0,6)] = pow(1/6, 4) * (6 + math.comb(4, 2) * math.factorial(6) / math.factorial(4) / 2)\n",
    "Ps[(1,6)] = pow(1/6, 4) * 4 * 6 * 5\n",
    "Ps[(2,6)] = pow(1/6, 4) * math.comb(4, 2) * math.factorial(6) / 6\n",
    "Ps[(3,6)] = 0\n",
    "Ps[(4,6)] = pow(1/6, 4) * math.factorial(6) / 2\n",
    "\n",
    "# Compute L4\n",
    "L[4] = (4 + Ps[(1,4)] * L[3] + Ps[(2,4)] * L[2]) / (1 - Ps[(0,4)])\n",
    "\n",
    "# Compute L4* with all different initial frame size\n",
    "n = dict()\n",
    "for r1 in range(1, 7):\n",
    "    L['4_star'] = r1\n",
    "    for i in range(4):\n",
    "        L['4_star'] += Ps[(i,r1)] * L[4 - i]\n",
    "    n[r1] = N / L['4_star']\n",
    "    print(f'With initial frame size {r1} we get len {L['4_star']:.3f} so {n[r1]:.3f} efficiency')\n"
   ]
  },
  {
   "cell_type": "markdown",
   "id": "b29f01b9",
   "metadata": {},
   "source": [
    "#### 2. After computing the values of the efficiency with the different frame sizes, produce a plot with values of η over r1"
   ]
  },
  {
   "cell_type": "code",
   "execution_count": 5,
   "id": "2a527bc4",
   "metadata": {},
   "outputs": [
    {
     "data": {
      "image/png": "[encoded data removed]",
      "text/plain": [
       "<Figure size 640x480 with 1 Axes>"
      ]
     },
     "metadata": {},
     "output_type": "display_data"
    }
   ],
   "source": [
    "import matplotlib.pyplot as plt\n",
    "\n",
    "plt.plot(n.keys(), n.values(), 'o-')\n",
    "plt.grid()\n",
    "plt.ylim(0, 1)\n",
    "plt.xlabel('Initial frame size r1')\n",
    "plt.ylabel('Efficiency η')\n",
    "plt.title('Efficiency over values of initial frame size')\n",
    "plt.show()"
   ]
  },
  {
   "cell_type": "markdown",
   "id": "157952c9",
   "metadata": {},
   "source": [
    "#### 3. For what values of r1 we have the maximum value for η?"
   ]
  },
  {
   "cell_type": "code",
   "execution_count": 6,
   "id": "2ed145a7",
   "metadata": {},
   "outputs": [
    {
     "name": "stdout",
     "output_type": "stream",
     "text": [
      "We obtain maximum efficiency η, equal to 0.453, with initial frame size of 4\n"
     ]
    }
   ],
   "source": [
    "max_r1 = max(n, key=n.get)\n",
    "print(f'We obtain maximum efficiency η, equal to {n[max_r1]:.3f}, with initial frame size of {max_r1}')"
   ]
  }
 ],
 "metadata": {
  "kernelspec": {
   "display_name": ".venv",
   "language": "python",
   "name": "python3"
  },
  "language_info": {
   "codemirror_mode": {
    "name": "ipython",
    "version": 3
   },
   "file_extension": ".py",
   "mimetype": "text/x-python",
   "name": "python",
   "nbconvert_exporter": "python",
   "pygments_lexer": "ipython3",
   "version": "3.12.3"
  }
 },
 "nbformat": 4,
 "nbformat_minor": 5
}
